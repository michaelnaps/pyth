{
 "cells": [
  {
   "cell_type": "code",
   "execution_count": null,
   "id": "d63e1fe3",
   "metadata": {},
   "outputs": [],
   "source": [
    "import random  # intialize the randoom number module"
   ]
  },
  {
   "cell_type": "code",
   "execution_count": 21,
   "id": "09458c34",
   "metadata": {},
   "outputs": [],
   "source": [
    "def prob1():\n",
    "    # intialize guess counter\n",
    "    guess_c = 1\n",
    "    # initialize random number\n",
    "    val = random.randrange(1, 101)\n",
    "    \n",
    "    # get initial guess from user\n",
    "    guess = int(input(\"Enter a guess: \"))\n",
    "\n",
    "    # enter loop that iterates until user is correct\n",
    "    while (guess != val):\n",
    "        # check if guess is correct\n",
    "        if (guess > val):\n",
    "            print(\"To high.\")\n",
    "        else:\n",
    "            print(\"To low.\")\n",
    "        \n",
    "        # get a new guess\n",
    "        guess = int(input(\"Enter another guess: \"))\n",
    "        \n",
    "        #iterate guess count\n",
    "        guess_c += 1;  # iterate count variable\n",
    "    \n",
    "    return guess_c  # return number of guesses"
   ]
  },
  {
   "cell_type": "code",
   "execution_count": 6,
   "id": "3ffd1f0a",
   "metadata": {},
   "outputs": [
    {
     "name": "stdout",
     "output_type": "stream",
     "text": [
      "Enter a guess: 50\n",
      "To high.\n",
      "Enter another guess: 25\n",
      "To high.\n",
      "Enter another guess: 12\n",
      "To low.\n",
      "Enter another guess: 18\n",
      "4\n"
     ]
    }
   ],
   "source": [
    "print(prob1())"
   ]
  },
  {
   "cell_type": "code",
   "execution_count": 39,
   "id": "ec8f84d8",
   "metadata": {},
   "outputs": [],
   "source": [
    "def prob2():\n",
    "    # guess count (for checking that it is below 7)\n",
    "    guess_c = 0\n",
    "    # intial guess is always 50 (between 1 and 100)\n",
    "    guess = 50\n",
    "    # result intialized to begin 'while' loop\n",
    "    result = \"X\"\n",
    "    # range of potential values\n",
    "    l = 1\n",
    "    h = 100\n",
    "    \n",
    "    # use bisection method to solve for user's guess\n",
    "    while (result != \"C\"):\n",
    "        # output computer's guess\n",
    "        print(\"I am guessing \" + str(guess))\n",
    "        \n",
    "        # ask user if current guess is correct\n",
    "        result = input(\"Enter L (Low), H (High) or C (Correct): \")\n",
    "        \n",
    "        # adjust range based on user input\n",
    "        if (result == \"L\"):\n",
    "            l = guess\n",
    "        elif (result == \"H\"):\n",
    "            h = guess\n",
    "        elif (result == \"C\"):\n",
    "            print(\"That is correct.\")\n",
    "            \n",
    "        guess = int((l + h) / 2)  # divide range by two for next guess\n",
    "        guess_c += 1  # iterate guess counter\n",
    "        \n",
    "    return guess_c  # return guess counter (for checking)       "
   ]
  },
  {
   "cell_type": "code",
   "execution_count": 42,
   "id": "bc471930",
   "metadata": {},
   "outputs": [
    {
     "name": "stdout",
     "output_type": "stream",
     "text": [
      "I am guessing 50\n",
      "Enter L (Low), H (High) or C (Correct): C\n",
      "That is correct.\n",
      "1\n"
     ]
    }
   ],
   "source": [
    "print(prob2())"
   ]
  },
  {
   "cell_type": "code",
   "execution_count": null,
   "id": "cc035792",
   "metadata": {},
   "outputs": [],
   "source": []
  }
 ],
 "metadata": {
  "kernelspec": {
   "display_name": "Python 3",
   "language": "python",
   "name": "python3"
  },
  "language_info": {
   "codemirror_mode": {
    "name": "ipython",
    "version": 3
   },
   "file_extension": ".py",
   "mimetype": "text/x-python",
   "name": "python",
   "nbconvert_exporter": "python",
   "pygments_lexer": "ipython3",
   "version": "3.8.8"
  }
 },
 "nbformat": 4,
 "nbformat_minor": 5
}
