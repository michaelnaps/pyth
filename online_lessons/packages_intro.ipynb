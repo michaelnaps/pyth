{
 "cells": [
  {
   "cell_type": "code",
   "execution_count": 4,
   "metadata": {},
   "outputs": [],
   "source": [
    "# Package examples:\n",
    "# Module - contains python definitions, function, and statements\n",
    "# Package - method of collecting related modules together within a single tree-like hierarchy."
   ]
  },
  {
   "cell_type": "code",
   "execution_count": 6,
   "metadata": {},
   "outputs": [],
   "source": [
    "# Step 1: find package\n",
    "# Step 2: install the package (through command line - 'conda(or pip) install packagename')\n",
    "# Step 3: import the package to program - 'import packagename'"
   ]
  },
  {
   "cell_type": "code",
   "execution_count": 1,
   "metadata": {},
   "outputs": [],
   "source": [
    "# after installing package 'scrapy'\n",
    "import scrapy  # for importing entire package\n",
    "import scrapy.crawler import CrawlerProcess  # for importing a single module/class"
   ]
  }
 ],
 "metadata": {
  "kernelspec": {
   "display_name": "Python 3",
   "language": "python",
   "name": "python3"
  },
  "language_info": {
   "codemirror_mode": {
    "name": "ipython",
    "version": 3
   },
   "file_extension": ".py",
   "mimetype": "text/x-python",
   "name": "python",
   "nbconvert_exporter": "python",
   "pygments_lexer": "ipython3",
   "version": "3.7.6"
  }
 },
 "nbformat": 4,
 "nbformat_minor": 4
}
